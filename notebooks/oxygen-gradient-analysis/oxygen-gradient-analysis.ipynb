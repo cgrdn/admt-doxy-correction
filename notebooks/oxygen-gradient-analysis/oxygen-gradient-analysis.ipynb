{
 "cells": [
  {
   "cell_type": "markdown",
   "metadata": {},
   "source": [
    "# Argo Oxygen Gradient Analysis\n",
    "\n",
    "This notebook to provide code for analysis of oxygen gradients (dO2/dz) in relation to the time response of oxygen optodes, and to what magnitude we might expect the lag correction to change existing profiles. It is also meant to provide context for how many floats and/or profiles are probably \"bad\" due to this inherent sensor error.\n",
    "\n",
    "## 1 - Import relevant packages and load Argo oxygen data\n",
    "\n",
    "The following code grabs the index of Argo profiles that contain dissolved oxygen data, subsets it for profiles more recent than 2016, and then further subsets it to be a random selection of those profiles. The package [argopandas](https://argocanada.github.io/argopandas/released/#) is used to do the heavy lifting."
   ]
  },
  {
   "cell_type": "code",
   "execution_count": null,
   "metadata": {},
   "outputs": [],
   "source": [
    "# numerics, data fetching/handling\n",
    "import numpy as np\n",
    "import pandas as pd\n",
    "import argopandas as argo\n",
    "\n",
    "# visualization\n",
    "import matplotlib.pyplot as plt\n",
    "import seaborn as sns\n",
    "# set up some plotting preferences\n",
    "sns.set(style='ticks', palette='colorblind')\n",
    "\n",
    "# suppress warnings\n",
    "import warnings\n",
    "warnings.filterwarnings('ignore')"
   ]
  },
  {
   "cell_type": "code",
   "execution_count": null,
   "metadata": {},
   "outputs": [],
   "source": [
    "# bgc argo index, DOXY floats only, ascending profiles only\n",
    "bx = argo.bio_prof.subset_parameter('DOXY').subset_direction('asc')\n",
    "# this index is 240,000 profiles - reduce using date and random selection\n",
    "bx = bx.subset_date('2016')\n",
    "# random subset of N profiles\n",
    "N = 500\n",
    "bx = bx.iloc[np.unique((np.random.randint(0, bx.shape[0], size=(N,))))]\\\n",
    "    .reset_index()\\\n",
    "    .drop('index', axis=1)\n",
    "# get the data, throw out any missing oxygen\n",
    "data = bx.levels[['PRES', 'DOXY', 'DOXY_QC']]"
   ]
  },
  {
   "cell_type": "markdown",
   "metadata": {},
   "source": [
    "## 2 - Calculate the vertical gradient of oxygen for each profile\n",
    "\n",
    "Next, calculate the vertical gradient of oxygen for each profile. For each of these gradients we will take the max absolute value, and fill it into a column in the profile index to make some things easier later on."
   ]
  },
  {
   "cell_type": "code",
   "execution_count": null,
   "metadata": {},
   "outputs": [],
   "source": [
    "# confine ourselves to mid-depth\n",
    "data = data[(data.PRES > 10) & (data.PRES < 500)]\n",
    "# get rid of any invalid data\n",
    "data = data[data.DOXY.notna()]\n",
    "data = data[data.PRES.notna()]\n",
    "# in case any files get completely removed because they are full of nan values\n",
    "data.index = data.index.remove_unused_levels()\n",
    "bx = bx[bx.file.isin(data.index.levels[0])]\n",
    "\n",
    "# create column to store gradient data\n",
    "data['GRAD'] = data.shape[0]*[np.nan]\n",
    "\n",
    "# loop through each profile and calclualte/fill the gradient\n",
    "for f in bx.file:\n",
    "    profile = data.loc[f]\n",
    "    grad = profile.DOXY.diff()/profile.PRES.diff()\n",
    "    data.loc[f]['GRAD'][:] = grad\n",
    "\n",
    "# remove any infinite values\n",
    "data.GRAD[~np.isfinite(data.GRAD)] = np.nan\n",
    "# fill in the max gradient for each profile\n",
    "bx['max_grad'] = [data.loc[f].GRAD.abs().max() for f in bx.file]"
   ]
  },
  {
   "cell_type": "markdown",
   "metadata": {},
   "source": [
    "## 3 - Visualize the data\n",
    "\n",
    "Now, lets look at some oxygen profiles themselves, and the distribution of the gradients."
   ]
  },
  {
   "cell_type": "code",
   "execution_count": null,
   "metadata": {},
   "outputs": [],
   "source": [
    "# pick 5 random profiles\n",
    "profs = np.random.randint(0, bx.shape[0], size=(5,))"
   ]
  },
  {
   "cell_type": "code",
   "execution_count": null,
   "metadata": {},
   "outputs": [],
   "source": [
    "# plot oxygen profiles\n",
    "fig, axes = plt.subplots(1, 2, sharey=True)\n",
    "g1 = sns.lineplot(x='DOXY', y='PRES', hue='file', style='N_PROF', data=data.loc[bx.file.iloc[profs]], sort=False, ax=axes[0], legend=False)\n",
    "# plot gradient profiles\n",
    "g2 = sns.lineplot(x='GRAD', y='PRES', hue='file', style='N_PROF', data=data.loc[bx.file.iloc[profs]], sort=False, ax=axes[1])\n",
    "g2.axes.set_ylim((510, -10))\n",
    "g2.axes.set_xlim((-4, 4))\n",
    "g2.axes.legend(fontsize=10, loc=1, bbox_to_anchor=(2.7, 1.0))\n",
    "\n",
    "# next figure - max gradient distributions\n",
    "# note - this is fundamentally flawed until you carefully remove spikes\n",
    "g3 = sns.displot(bx.max_grad, bins=np.arange(0, 10, 0.25))\n",
    "g3.ax.set_xlim((-0.2, 10.2))"
   ]
  },
  {
   "cell_type": "code",
   "execution_count": null,
   "metadata": {},
   "outputs": [],
   "source": [
    "grad"
   ]
  },
  {
   "cell_type": "code",
   "execution_count": null,
   "metadata": {},
   "outputs": [],
   "source": []
  }
 ],
 "metadata": {
  "interpreter": {
   "hash": "8571e7f3e92f6e490cddd84ef78d4e4e0b96a1f565959148b10a39523fba88f5"
  },
  "kernelspec": {
   "display_name": "Python 3.9.7 ('py39')",
   "language": "python",
   "name": "python3"
  },
  "language_info": {
   "codemirror_mode": {
    "name": "ipython",
    "version": 3
   },
   "file_extension": ".py",
   "mimetype": "text/x-python",
   "name": "python",
   "nbconvert_exporter": "python",
   "pygments_lexer": "ipython3",
   "version": "3.9.7"
  },
  "orig_nbformat": 4
 },
 "nbformat": 4,
 "nbformat_minor": 2
}
