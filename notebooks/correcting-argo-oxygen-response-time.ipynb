{
 "cells": [
  {
   "cell_type": "markdown",
   "source": [
    "In this post we will work through performing the response time correction on oxygen observations following [Bittig et al. (2014)](https://doi.org/10.4319/lom.2014.12.617) on Argo data. The focus is more on accessing the proper variables within Argo than describing the actual correction. We will use [argopandas](https://github.com/ArgoCanada/argopandas) package to manage our data fetching from Argo, and use a function from [bgcArgoDMQC]((https://github.com/ArgoCanada/bgcArgoDMQC)) to do the response time correction. Other basic data manipulation and visualization will use the [pandas](https://pandas.pydata.org/), [numpy](https://numpy.org/), and [scipy](https://scipy.org/) packages, and [matplotlib](https://matplotlib.org/) and [seaborn](https://seaborn.pydata.org/) for plotting."
   ],
   "metadata": {}
  },
  {
   "cell_type": "code",
   "execution_count": 15,
   "source": [
    "# conda install -c conda-forge argopandas bgcArgoDMQC\r\n",
    "import numpy as np\r\n",
    "import pandas as pd\r\n",
    "from scipy.interpolate import interp1d\r\n",
    "\r\n",
    "import matplotlib.pyplot as plt\r\n",
    "import seaborn as sns\r\n",
    "sns.set(style='ticks', palette='colorblind')\r\n",
    "\r\n",
    "import argopandas as argo\r\n",
    "from bgcArgoDMQC import correct_response_time"
   ],
   "outputs": [],
   "metadata": {}
  },
  {
   "cell_type": "markdown",
   "source": [
    "We will use float [7900589](https://fleetmonitoring.euro-argo.eu/float/7900589), an APEX float in the North Atlantic which has the intermediate parameter `MTIME`, defined as the relative time in fractional days since the date of the profile `JULD`."
   ],
   "metadata": {}
  },
  {
   "cell_type": "code",
   "execution_count": 2,
   "source": [
    "flt = argo.float(7900589)\r\n",
    "# grab core and bgc files for just the most recent cycle\r\n",
    "core = flt.prof\r\n",
    "bgc  = flt.bio_prof\r\n",
    "core = core[core.file == core.file.iloc[-1]]\r\n",
    "bgc  = bgc[bgc.file == bgc.file.iloc[-1]]"
   ],
   "outputs": [
    {
     "output_type": "stream",
     "name": "stderr",
     "text": [
      "Downloading 'https://data-argo.ifremer.fr/ar_index_global_prof.txt.gz'\n",
      "Downloading 'https://data-argo.ifremer.fr/argo_bio-profile_index.txt.gz'\n"
     ]
    }
   ],
   "metadata": {}
  },
  {
   "cell_type": "code",
   "execution_count": 3,
   "source": [
    "core"
   ],
   "outputs": [
    {
     "output_type": "execute_result",
     "data": {
      "text/plain": [
       "                                              file                      date  \\\n",
       "1853971  coriolis/7900589/profiles/R7900589_043.nc 2021-11-08 12:13:44+00:00   \n",
       "\n",
       "         latitude  longitude ocean  profiler_type institution  \\\n",
       "1853971    55.682    -46.691     A            846          IF   \n",
       "\n",
       "                      date_update  \n",
       "1853971 2021-11-08 15:34:25+00:00  "
      ],
      "text/html": [
       "<div>\n",
       "<style scoped>\n",
       "    .dataframe tbody tr th:only-of-type {\n",
       "        vertical-align: middle;\n",
       "    }\n",
       "\n",
       "    .dataframe tbody tr th {\n",
       "        vertical-align: top;\n",
       "    }\n",
       "\n",
       "    .dataframe thead th {\n",
       "        text-align: right;\n",
       "    }\n",
       "</style>\n",
       "<table border=\"1\" class=\"dataframe\">\n",
       "  <thead>\n",
       "    <tr style=\"text-align: right;\">\n",
       "      <th></th>\n",
       "      <th>file</th>\n",
       "      <th>date</th>\n",
       "      <th>latitude</th>\n",
       "      <th>longitude</th>\n",
       "      <th>ocean</th>\n",
       "      <th>profiler_type</th>\n",
       "      <th>institution</th>\n",
       "      <th>date_update</th>\n",
       "    </tr>\n",
       "  </thead>\n",
       "  <tbody>\n",
       "    <tr>\n",
       "      <th>1853971</th>\n",
       "      <td>coriolis/7900589/profiles/R7900589_043.nc</td>\n",
       "      <td>2021-11-08 12:13:44+00:00</td>\n",
       "      <td>55.682</td>\n",
       "      <td>-46.691</td>\n",
       "      <td>A</td>\n",
       "      <td>846</td>\n",
       "      <td>IF</td>\n",
       "      <td>2021-11-08 15:34:25+00:00</td>\n",
       "    </tr>\n",
       "  </tbody>\n",
       "</table>\n",
       "</div>"
      ]
     },
     "metadata": {},
     "execution_count": 3
    }
   ],
   "metadata": {}
  },
  {
   "cell_type": "code",
   "execution_count": 4,
   "source": [
    "bgc"
   ],
   "outputs": [
    {
     "output_type": "execute_result",
     "data": {
      "text/plain": [
       "                                              file                      date  \\\n",
       "179672  coriolis/7900589/profiles/BR7900589_043.nc 2021-11-08 12:13:44+00:00   \n",
       "\n",
       "        latitude  longitude ocean  profiler_type institution  \\\n",
       "179672    55.682    -46.691     A            846          IF   \n",
       "\n",
       "                                               parameters parameter_data_mode  \\\n",
       "179672  MTIME PRES TEMP_DOXY C1PHASE_DOXY C2PHASE_DOXY...        RRRRRARRRARR   \n",
       "\n",
       "                     date_update  \n",
       "179672 2021-11-08 16:02:45+00:00  "
      ],
      "text/html": [
       "<div>\n",
       "<style scoped>\n",
       "    .dataframe tbody tr th:only-of-type {\n",
       "        vertical-align: middle;\n",
       "    }\n",
       "\n",
       "    .dataframe tbody tr th {\n",
       "        vertical-align: top;\n",
       "    }\n",
       "\n",
       "    .dataframe thead th {\n",
       "        text-align: right;\n",
       "    }\n",
       "</style>\n",
       "<table border=\"1\" class=\"dataframe\">\n",
       "  <thead>\n",
       "    <tr style=\"text-align: right;\">\n",
       "      <th></th>\n",
       "      <th>file</th>\n",
       "      <th>date</th>\n",
       "      <th>latitude</th>\n",
       "      <th>longitude</th>\n",
       "      <th>ocean</th>\n",
       "      <th>profiler_type</th>\n",
       "      <th>institution</th>\n",
       "      <th>parameters</th>\n",
       "      <th>parameter_data_mode</th>\n",
       "      <th>date_update</th>\n",
       "    </tr>\n",
       "  </thead>\n",
       "  <tbody>\n",
       "    <tr>\n",
       "      <th>179672</th>\n",
       "      <td>coriolis/7900589/profiles/BR7900589_043.nc</td>\n",
       "      <td>2021-11-08 12:13:44+00:00</td>\n",
       "      <td>55.682</td>\n",
       "      <td>-46.691</td>\n",
       "      <td>A</td>\n",
       "      <td>846</td>\n",
       "      <td>IF</td>\n",
       "      <td>MTIME PRES TEMP_DOXY C1PHASE_DOXY C2PHASE_DOXY...</td>\n",
       "      <td>RRRRRARRRARR</td>\n",
       "      <td>2021-11-08 16:02:45+00:00</td>\n",
       "    </tr>\n",
       "  </tbody>\n",
       "</table>\n",
       "</div>"
      ]
     },
     "metadata": {},
     "execution_count": 4
    }
   ],
   "metadata": {}
  },
  {
   "cell_type": "code",
   "execution_count": 5,
   "source": [
    "core_df = core.levels[['PRES', 'TEMP', 'PSAL']]\r\n",
    "bgc_df  = bgc.levels[['PRES', 'MTIME', 'DOXY']]"
   ],
   "outputs": [
    {
     "output_type": "stream",
     "name": "stderr",
     "text": [
      "Downloading 'https://data-argo.ifremer.fr/dac/coriolis/7900589/profiles/R7900589_043.nc'\n",
      "Reading 1 file\n",
      "Downloading 'https://data-argo.ifremer.fr/dac/coriolis/7900589/profiles/BR7900589_043.nc'\n",
      "Reading 1 file\n"
     ]
    }
   ],
   "metadata": {}
  },
  {
   "cell_type": "code",
   "execution_count": 6,
   "source": [
    "core_df"
   ],
   "outputs": [
    {
     "output_type": "execute_result",
     "data": {
      "text/plain": [
       "                                                           PRES    TEMP  \\\n",
       "file                                      N_PROF N_LEVELS                 \n",
       "coriolis/7900589/profiles/R7900589_043.nc 0      0         0.43  6.7983   \n",
       "                                                 1         2.30  6.7997   \n",
       "                                                 2         4.42  6.8032   \n",
       "                                                 3         6.01  6.8057   \n",
       "                                                 4         8.07  6.8026   \n",
       "...                                                         ...     ...   \n",
       "                                          3      470        NaN     NaN   \n",
       "                                                 471        NaN     NaN   \n",
       "                                                 472        NaN     NaN   \n",
       "                                                 473        NaN     NaN   \n",
       "                                                 474        NaN     NaN   \n",
       "\n",
       "                                                                PSAL  \n",
       "file                                      N_PROF N_LEVELS             \n",
       "coriolis/7900589/profiles/R7900589_043.nc 0      0         34.502201  \n",
       "                                                 1         34.501499  \n",
       "                                                 2         34.501801  \n",
       "                                                 3         34.501900  \n",
       "                                                 4         34.502102  \n",
       "...                                                              ...  \n",
       "                                          3      470             NaN  \n",
       "                                                 471             NaN  \n",
       "                                                 472             NaN  \n",
       "                                                 473             NaN  \n",
       "                                                 474             NaN  \n",
       "\n",
       "[1900 rows x 3 columns]"
      ],
      "text/html": [
       "<div>\n",
       "<style scoped>\n",
       "    .dataframe tbody tr th:only-of-type {\n",
       "        vertical-align: middle;\n",
       "    }\n",
       "\n",
       "    .dataframe tbody tr th {\n",
       "        vertical-align: top;\n",
       "    }\n",
       "\n",
       "    .dataframe thead th {\n",
       "        text-align: right;\n",
       "    }\n",
       "</style>\n",
       "<table border=\"1\" class=\"dataframe\">\n",
       "  <thead>\n",
       "    <tr style=\"text-align: right;\">\n",
       "      <th></th>\n",
       "      <th></th>\n",
       "      <th></th>\n",
       "      <th>PRES</th>\n",
       "      <th>TEMP</th>\n",
       "      <th>PSAL</th>\n",
       "    </tr>\n",
       "    <tr>\n",
       "      <th>file</th>\n",
       "      <th>N_PROF</th>\n",
       "      <th>N_LEVELS</th>\n",
       "      <th></th>\n",
       "      <th></th>\n",
       "      <th></th>\n",
       "    </tr>\n",
       "  </thead>\n",
       "  <tbody>\n",
       "    <tr>\n",
       "      <th rowspan=\"11\" valign=\"top\">coriolis/7900589/profiles/R7900589_043.nc</th>\n",
       "      <th rowspan=\"5\" valign=\"top\">0</th>\n",
       "      <th>0</th>\n",
       "      <td>0.43</td>\n",
       "      <td>6.7983</td>\n",
       "      <td>34.502201</td>\n",
       "    </tr>\n",
       "    <tr>\n",
       "      <th>1</th>\n",
       "      <td>2.30</td>\n",
       "      <td>6.7997</td>\n",
       "      <td>34.501499</td>\n",
       "    </tr>\n",
       "    <tr>\n",
       "      <th>2</th>\n",
       "      <td>4.42</td>\n",
       "      <td>6.8032</td>\n",
       "      <td>34.501801</td>\n",
       "    </tr>\n",
       "    <tr>\n",
       "      <th>3</th>\n",
       "      <td>6.01</td>\n",
       "      <td>6.8057</td>\n",
       "      <td>34.501900</td>\n",
       "    </tr>\n",
       "    <tr>\n",
       "      <th>4</th>\n",
       "      <td>8.07</td>\n",
       "      <td>6.8026</td>\n",
       "      <td>34.502102</td>\n",
       "    </tr>\n",
       "    <tr>\n",
       "      <th>...</th>\n",
       "      <th>...</th>\n",
       "      <td>...</td>\n",
       "      <td>...</td>\n",
       "      <td>...</td>\n",
       "    </tr>\n",
       "    <tr>\n",
       "      <th rowspan=\"5\" valign=\"top\">3</th>\n",
       "      <th>470</th>\n",
       "      <td>NaN</td>\n",
       "      <td>NaN</td>\n",
       "      <td>NaN</td>\n",
       "    </tr>\n",
       "    <tr>\n",
       "      <th>471</th>\n",
       "      <td>NaN</td>\n",
       "      <td>NaN</td>\n",
       "      <td>NaN</td>\n",
       "    </tr>\n",
       "    <tr>\n",
       "      <th>472</th>\n",
       "      <td>NaN</td>\n",
       "      <td>NaN</td>\n",
       "      <td>NaN</td>\n",
       "    </tr>\n",
       "    <tr>\n",
       "      <th>473</th>\n",
       "      <td>NaN</td>\n",
       "      <td>NaN</td>\n",
       "      <td>NaN</td>\n",
       "    </tr>\n",
       "    <tr>\n",
       "      <th>474</th>\n",
       "      <td>NaN</td>\n",
       "      <td>NaN</td>\n",
       "      <td>NaN</td>\n",
       "    </tr>\n",
       "  </tbody>\n",
       "</table>\n",
       "<p>1900 rows × 3 columns</p>\n",
       "</div>"
      ]
     },
     "metadata": {},
     "execution_count": 6
    }
   ],
   "metadata": {}
  },
  {
   "cell_type": "code",
   "execution_count": 7,
   "source": [
    "bgc_df"
   ],
   "outputs": [
    {
     "output_type": "execute_result",
     "data": {
      "text/plain": [
       "                                                            PRES     MTIME  \\\n",
       "file                                       N_PROF N_LEVELS                   \n",
       "coriolis/7900589/profiles/BR7900589_043.nc 0      0         0.43 -0.000613   \n",
       "                                                  1         2.30 -0.001296   \n",
       "                                                  2         4.42       NaN   \n",
       "                                                  3         6.01       NaN   \n",
       "                                                  4         8.07       NaN   \n",
       "...                                                          ...       ...   \n",
       "                                           3      470        NaN       NaN   \n",
       "                                                  471        NaN       NaN   \n",
       "                                                  472        NaN       NaN   \n",
       "                                                  473        NaN       NaN   \n",
       "                                                  474        NaN       NaN   \n",
       "\n",
       "                                                            DOXY  \n",
       "file                                       N_PROF N_LEVELS        \n",
       "coriolis/7900589/profiles/BR7900589_043.nc 0      0          NaN  \n",
       "                                                  1          NaN  \n",
       "                                                  2          NaN  \n",
       "                                                  3          NaN  \n",
       "                                                  4          NaN  \n",
       "...                                                          ...  \n",
       "                                           3      470        NaN  \n",
       "                                                  471        NaN  \n",
       "                                                  472        NaN  \n",
       "                                                  473        NaN  \n",
       "                                                  474        NaN  \n",
       "\n",
       "[1900 rows x 3 columns]"
      ],
      "text/html": [
       "<div>\n",
       "<style scoped>\n",
       "    .dataframe tbody tr th:only-of-type {\n",
       "        vertical-align: middle;\n",
       "    }\n",
       "\n",
       "    .dataframe tbody tr th {\n",
       "        vertical-align: top;\n",
       "    }\n",
       "\n",
       "    .dataframe thead th {\n",
       "        text-align: right;\n",
       "    }\n",
       "</style>\n",
       "<table border=\"1\" class=\"dataframe\">\n",
       "  <thead>\n",
       "    <tr style=\"text-align: right;\">\n",
       "      <th></th>\n",
       "      <th></th>\n",
       "      <th></th>\n",
       "      <th>PRES</th>\n",
       "      <th>MTIME</th>\n",
       "      <th>DOXY</th>\n",
       "    </tr>\n",
       "    <tr>\n",
       "      <th>file</th>\n",
       "      <th>N_PROF</th>\n",
       "      <th>N_LEVELS</th>\n",
       "      <th></th>\n",
       "      <th></th>\n",
       "      <th></th>\n",
       "    </tr>\n",
       "  </thead>\n",
       "  <tbody>\n",
       "    <tr>\n",
       "      <th rowspan=\"11\" valign=\"top\">coriolis/7900589/profiles/BR7900589_043.nc</th>\n",
       "      <th rowspan=\"5\" valign=\"top\">0</th>\n",
       "      <th>0</th>\n",
       "      <td>0.43</td>\n",
       "      <td>-0.000613</td>\n",
       "      <td>NaN</td>\n",
       "    </tr>\n",
       "    <tr>\n",
       "      <th>1</th>\n",
       "      <td>2.30</td>\n",
       "      <td>-0.001296</td>\n",
       "      <td>NaN</td>\n",
       "    </tr>\n",
       "    <tr>\n",
       "      <th>2</th>\n",
       "      <td>4.42</td>\n",
       "      <td>NaN</td>\n",
       "      <td>NaN</td>\n",
       "    </tr>\n",
       "    <tr>\n",
       "      <th>3</th>\n",
       "      <td>6.01</td>\n",
       "      <td>NaN</td>\n",
       "      <td>NaN</td>\n",
       "    </tr>\n",
       "    <tr>\n",
       "      <th>4</th>\n",
       "      <td>8.07</td>\n",
       "      <td>NaN</td>\n",
       "      <td>NaN</td>\n",
       "    </tr>\n",
       "    <tr>\n",
       "      <th>...</th>\n",
       "      <th>...</th>\n",
       "      <td>...</td>\n",
       "      <td>...</td>\n",
       "      <td>...</td>\n",
       "    </tr>\n",
       "    <tr>\n",
       "      <th rowspan=\"5\" valign=\"top\">3</th>\n",
       "      <th>470</th>\n",
       "      <td>NaN</td>\n",
       "      <td>NaN</td>\n",
       "      <td>NaN</td>\n",
       "    </tr>\n",
       "    <tr>\n",
       "      <th>471</th>\n",
       "      <td>NaN</td>\n",
       "      <td>NaN</td>\n",
       "      <td>NaN</td>\n",
       "    </tr>\n",
       "    <tr>\n",
       "      <th>472</th>\n",
       "      <td>NaN</td>\n",
       "      <td>NaN</td>\n",
       "      <td>NaN</td>\n",
       "    </tr>\n",
       "    <tr>\n",
       "      <th>473</th>\n",
       "      <td>NaN</td>\n",
       "      <td>NaN</td>\n",
       "      <td>NaN</td>\n",
       "    </tr>\n",
       "    <tr>\n",
       "      <th>474</th>\n",
       "      <td>NaN</td>\n",
       "      <td>NaN</td>\n",
       "      <td>NaN</td>\n",
       "    </tr>\n",
       "  </tbody>\n",
       "</table>\n",
       "<p>1900 rows × 3 columns</p>\n",
       "</div>"
      ]
     },
     "metadata": {},
     "execution_count": 7
    }
   ],
   "metadata": {}
  },
  {
   "cell_type": "markdown",
   "source": [
    "You will notice looking at the printout of `bgc_df` that there are a lot of NaN values. The valid `MTIME` and `DOXY` values are in the `N_PROF` dimension 2. There are a variety of reasons why there might be `N_PROF` > 1 dimensions in an Argo profile. Where that is not the subject I won't go into why, and frankly I only know the valid data is in `N_PROF` = 2 by inspecting the dataframe. The valid core data is in `N_PROF` = 0. If we simply tried to line these separate dataframes up into one, we would fail miserably since our time and oxygen data would not be aligned with our physical data. So instead, we will use the common pressure axis to interpolate onto a common axis."
   ],
   "metadata": {}
  },
  {
   "cell_type": "code",
   "execution_count": 12,
   "source": [
    "# create a dataframe to store interpolated data in\r\n",
    "df = pd.DataFrame()\r\n",
    "# define a pressure axis to interpolate and a depth resolution\r\n",
    "dP = 2.5\r\n",
    "interp_pressure = np.arange(0, core_df['PRES'].max(), dP)\r\n",
    "df['PRES'] = interp_pressure\r\n",
    "# interpolate\r\n",
    "for key, source in zip(['MTIME', 'TEMP', 'DOXY'], [bgc_df, core_df, bgc_df]):\r\n",
    "    ix = source[key].notna() # remove nan values that will mess with interp\r\n",
    "    f = interp1d(source['PRES'][ix], source[key][ix], bounds_error=False)\r\n",
    "    df[key] = f(interp_pressure)"
   ],
   "outputs": [],
   "metadata": {}
  },
  {
   "cell_type": "code",
   "execution_count": 13,
   "source": [
    "df"
   ],
   "outputs": [
    {
     "output_type": "execute_result",
     "data": {
      "text/plain": [
       "      PRES     MTIME      TEMP        DOXY\n",
       "0      0.0       NaN       NaN         NaN\n",
       "1      2.5 -0.001345  6.800030  265.266078\n",
       "2      5.0 -0.001957  6.804258  265.227454\n",
       "3      7.5 -0.002542  6.802751  265.246096\n",
       "4     10.0 -0.003235  6.804123  264.956293\n",
       "..     ...       ...       ...         ...\n",
       "374  935.0 -0.139717  3.358495  263.701094\n",
       "375  937.5 -0.140046  3.354090  263.718486\n",
       "376  940.0 -0.140375  3.351910  263.735879\n",
       "377  942.5 -0.140704  3.351850  263.753272\n",
       "378  945.0 -0.141049  3.351151         NaN\n",
       "\n",
       "[379 rows x 4 columns]"
      ],
      "text/html": [
       "<div>\n",
       "<style scoped>\n",
       "    .dataframe tbody tr th:only-of-type {\n",
       "        vertical-align: middle;\n",
       "    }\n",
       "\n",
       "    .dataframe tbody tr th {\n",
       "        vertical-align: top;\n",
       "    }\n",
       "\n",
       "    .dataframe thead th {\n",
       "        text-align: right;\n",
       "    }\n",
       "</style>\n",
       "<table border=\"1\" class=\"dataframe\">\n",
       "  <thead>\n",
       "    <tr style=\"text-align: right;\">\n",
       "      <th></th>\n",
       "      <th>PRES</th>\n",
       "      <th>MTIME</th>\n",
       "      <th>TEMP</th>\n",
       "      <th>DOXY</th>\n",
       "    </tr>\n",
       "  </thead>\n",
       "  <tbody>\n",
       "    <tr>\n",
       "      <th>0</th>\n",
       "      <td>0.0</td>\n",
       "      <td>NaN</td>\n",
       "      <td>NaN</td>\n",
       "      <td>NaN</td>\n",
       "    </tr>\n",
       "    <tr>\n",
       "      <th>1</th>\n",
       "      <td>2.5</td>\n",
       "      <td>-0.001345</td>\n",
       "      <td>6.800030</td>\n",
       "      <td>265.266078</td>\n",
       "    </tr>\n",
       "    <tr>\n",
       "      <th>2</th>\n",
       "      <td>5.0</td>\n",
       "      <td>-0.001957</td>\n",
       "      <td>6.804258</td>\n",
       "      <td>265.227454</td>\n",
       "    </tr>\n",
       "    <tr>\n",
       "      <th>3</th>\n",
       "      <td>7.5</td>\n",
       "      <td>-0.002542</td>\n",
       "      <td>6.802751</td>\n",
       "      <td>265.246096</td>\n",
       "    </tr>\n",
       "    <tr>\n",
       "      <th>4</th>\n",
       "      <td>10.0</td>\n",
       "      <td>-0.003235</td>\n",
       "      <td>6.804123</td>\n",
       "      <td>264.956293</td>\n",
       "    </tr>\n",
       "    <tr>\n",
       "      <th>...</th>\n",
       "      <td>...</td>\n",
       "      <td>...</td>\n",
       "      <td>...</td>\n",
       "      <td>...</td>\n",
       "    </tr>\n",
       "    <tr>\n",
       "      <th>374</th>\n",
       "      <td>935.0</td>\n",
       "      <td>-0.139717</td>\n",
       "      <td>3.358495</td>\n",
       "      <td>263.701094</td>\n",
       "    </tr>\n",
       "    <tr>\n",
       "      <th>375</th>\n",
       "      <td>937.5</td>\n",
       "      <td>-0.140046</td>\n",
       "      <td>3.354090</td>\n",
       "      <td>263.718486</td>\n",
       "    </tr>\n",
       "    <tr>\n",
       "      <th>376</th>\n",
       "      <td>940.0</td>\n",
       "      <td>-0.140375</td>\n",
       "      <td>3.351910</td>\n",
       "      <td>263.735879</td>\n",
       "    </tr>\n",
       "    <tr>\n",
       "      <th>377</th>\n",
       "      <td>942.5</td>\n",
       "      <td>-0.140704</td>\n",
       "      <td>3.351850</td>\n",
       "      <td>263.753272</td>\n",
       "    </tr>\n",
       "    <tr>\n",
       "      <th>378</th>\n",
       "      <td>945.0</td>\n",
       "      <td>-0.141049</td>\n",
       "      <td>3.351151</td>\n",
       "      <td>NaN</td>\n",
       "    </tr>\n",
       "  </tbody>\n",
       "</table>\n",
       "<p>379 rows × 4 columns</p>\n",
       "</div>"
      ]
     },
     "metadata": {},
     "execution_count": 13
    }
   ],
   "metadata": {}
  },
  {
   "cell_type": "markdown",
   "source": [
    "Now we are almost ready to perform the time response correction, except that *we don't know what the time response of this optode is*. Without a reference data set like in [Bittig et al. (2014)](https://doi.org/10.4319/lom.2014.12.617) or consecutive up- and down-casts as in [Gordon et al. (2020)](https://doi.org/10.5194/bg-17-4119-2020), knowing the response time is not possible. For the purposes of demonstration we will choose a boundary layer thickness (an equivalent parameter, but independent of temperature unlike response time) of 120 micrometers (equivalent to a response time of 67.2 seconds at 20 degrees C)."
   ],
   "metadata": {}
  },
  {
   "cell_type": "code",
   "execution_count": 20,
   "source": [
    "Il = 120\r\n",
    "df['DOXY_ADJUSTED'] = correct_response_time(df['MTIME'], df['DOXY'], df['TEMP'], Il)\r\n",
    "df['DOXY_DELTA'] = df.DOXY - df.DOXY_ADJUSTED # change in oxygen"
   ],
   "outputs": [],
   "metadata": {}
  },
  {
   "cell_type": "markdown",
   "source": [
    "Finally, we'll plot the profiles to see the end result of the correction."
   ],
   "metadata": {}
  },
  {
   "cell_type": "code",
   "execution_count": 26,
   "source": [
    "# melt the dataframe so that we can use hue keyword when plotting\r\n",
    "df_melt = df.melt(id_vars=['PRES', 'MTIME', 'TEMP', 'DOXY_DELTA'], var_name='DOXY_STATUS', value_name='DOXY')\r\n",
    "\r\n",
    "fig, axes = plt.subplots(1, 2, sharey=True)\r\n",
    "sns.lineplot(x='DOXY', y='PRES', hue='DOXY_STATUS', data=df_melt, sort=False, ax=axes[0])\r\n",
    "sns.lineplot(x='DOXY_DELTA', y='PRES', data=df, sort=False, ax=axes[1])\r\n",
    "axes[0].legend(loc=3)\r\n",
    "axes[0].set_ylim((250, 0))\r\n"
   ],
   "outputs": [
    {
     "output_type": "stream",
     "name": "stderr",
     "text": [
      "C:\\Users\\GordonC\\AppData\\Local\\Temp\\1/ipykernel_25976/3416147837.py:2: FutureWarning: This dataframe has a column name that matches the 'value_name' column name of the resulting Dataframe. In the future this will raise an error, please set the 'value_name' parameter of DataFrame.melt to a unique name.\n",
      "  df_melt = df.melt(id_vars=['PRES', 'MTIME', 'TEMP', 'DOXY_DELTA'], var_name='DOXY_STATUS', value_name='DOXY')\n"
     ]
    },
    {
     "output_type": "execute_result",
     "data": {
      "text/plain": [
       "(250.0, 0.0)"
      ]
     },
     "metadata": {},
     "execution_count": 26
    },
    {
     "output_type": "display_data",
     "data": {
      "text/plain": [
       "<Figure size 432x288 with 2 Axes>"
      ],
      "image/svg+xml": "<?xml version=\"1.0\" encoding=\"utf-8\" standalone=\"no\"?>\r\n<!DOCTYPE svg PUBLIC \"-//W3C//DTD SVG 1.1//EN\"\r\n  \"http://www.w3.org/Graphics/SVG/1.1/DTD/svg11.dtd\">\r\n<svg height=\"270.464766pt\" version=\"1.1\" viewBox=\"0 0 392.025469 270.464766\" width=\"392.025469pt\" xmlns=\"http://www.w3.org/2000/svg\" xmlns:xlink=\"http://www.w3.org/1999/xlink\">\r\n <metadata>\r\n  <rdf:RDF xmlns:cc=\"http://creativecommons.org/ns#\" xmlns:dc=\"http://purl.org/dc/elements/1.1/\" xmlns:rdf=\"http://www.w3.org/1999/02/22-rdf-syntax-ns#\">\r\n   <cc:Work>\r\n    <dc:type rdf:resource=\"http://purl.org/dc/dcmitype/StillImage\"/>\r\n    <dc:date>2021-11-10T12:49:25.017584</dc:date>\r\n    <dc:format>image/svg+xml</dc:format>\r\n    <dc:creator>\r\n     <cc:Agent>\r\n      <dc:title>Matplotlib v3.4.3, https://matplotlib.org/</dc:title>\r\n     </cc:Agent>\r\n    </dc:creator>\r\n   </cc:Work>\r\n  </rdf:RDF>\r\n </metadata>\r\n <defs>\r\n  <style type=\"text/css\">*{stroke-linecap:butt;stroke-linejoin:round;}</style>\r\n </defs>\r\n <g id=\"figure_1\">\r\n  <g id=\"patch_1\">\r\n   <path d=\"M 0 270.464766 \r\nL 392.025469 270.464766 \r\nL 392.025469 0 \r\nL 0 0 \r\nz\r\n\" style=\"fill:#ffffff;\"/>\r\n  </g>\r\n  <g id=\"axes_1\">\r\n   <g id=\"patch_2\">\r\n    <path d=\"M 50.025469 228.576797 \r\nL 202.207287 228.576797 \r\nL 202.207287 11.136797 \r\nL 50.025469 11.136797 \r\nz\r\n\" style=\"fill:#ffffff;\"/>\r\n   </g>\r\n   <g id=\"matplotlib.axis_1\">\r\n    <g id=\"xtick_1\">\r\n     <g id=\"line2d_1\">\r\n      <defs>\r\n       <path d=\"M 0 0 \r\nL 0 6 \r\n\" id=\"m926b814aa9\" style=\"stroke:#262626;stroke-width:1.25;\"/>\r\n      </defs>\r\n      <g>\r\n       <use style=\"fill:#262626;stroke:#262626;stroke-width:1.25;\" x=\"92.110042\" xlink:href=\"#m926b814aa9\" y=\"228.576797\"/>\r\n      </g>\r\n     </g>\r\n     <g id=\"text_1\">\r\n      <!-- 260 -->\r\n      <g style=\"fill:#262626;\" transform=\"translate(82.934495 245.950391)scale(0.11 -0.11)\">\r\n       <defs>\r\n        <path d=\"M 3222 541 \r\nL 3222 0 \r\nL 194 0 \r\nQ 188 203 259 391 \r\nQ 375 700 629 1000 \r\nQ 884 1300 1366 1694 \r\nQ 2113 2306 2375 2664 \r\nQ 2638 3022 2638 3341 \r\nQ 2638 3675 2398 3904 \r\nQ 2159 4134 1775 4134 \r\nQ 1369 4134 1125 3890 \r\nQ 881 3647 878 3216 \r\nL 300 3275 \r\nQ 359 3922 746 4261 \r\nQ 1134 4600 1788 4600 \r\nQ 2447 4600 2831 4234 \r\nQ 3216 3869 3216 3328 \r\nQ 3216 3053 3103 2787 \r\nQ 2991 2522 2730 2228 \r\nQ 2469 1934 1863 1422 \r\nQ 1356 997 1212 845 \r\nQ 1069 694 975 541 \r\nL 3222 541 \r\nz\r\n\" id=\"ArialMT-32\" transform=\"scale(0.015625)\"/>\r\n        <path d=\"M 3184 3459 \r\nL 2625 3416 \r\nQ 2550 3747 2413 3897 \r\nQ 2184 4138 1850 4138 \r\nQ 1581 4138 1378 3988 \r\nQ 1113 3794 959 3422 \r\nQ 806 3050 800 2363 \r\nQ 1003 2672 1297 2822 \r\nQ 1591 2972 1913 2972 \r\nQ 2475 2972 2870 2558 \r\nQ 3266 2144 3266 1488 \r\nQ 3266 1056 3080 686 \r\nQ 2894 316 2569 119 \r\nQ 2244 -78 1831 -78 \r\nQ 1128 -78 684 439 \r\nQ 241 956 241 2144 \r\nQ 241 3472 731 4075 \r\nQ 1159 4600 1884 4600 \r\nQ 2425 4600 2770 4297 \r\nQ 3116 3994 3184 3459 \r\nz\r\nM 888 1484 \r\nQ 888 1194 1011 928 \r\nQ 1134 663 1356 523 \r\nQ 1578 384 1822 384 \r\nQ 2178 384 2434 671 \r\nQ 2691 959 2691 1453 \r\nQ 2691 1928 2437 2201 \r\nQ 2184 2475 1800 2475 \r\nQ 1419 2475 1153 2201 \r\nQ 888 1928 888 1484 \r\nz\r\n\" id=\"ArialMT-36\" transform=\"scale(0.015625)\"/>\r\n        <path d=\"M 266 2259 \r\nQ 266 3072 433 3567 \r\nQ 600 4063 929 4331 \r\nQ 1259 4600 1759 4600 \r\nQ 2128 4600 2406 4451 \r\nQ 2684 4303 2865 4023 \r\nQ 3047 3744 3150 3342 \r\nQ 3253 2941 3253 2259 \r\nQ 3253 1453 3087 958 \r\nQ 2922 463 2592 192 \r\nQ 2263 -78 1759 -78 \r\nQ 1097 -78 719 397 \r\nQ 266 969 266 2259 \r\nz\r\nM 844 2259 \r\nQ 844 1131 1108 757 \r\nQ 1372 384 1759 384 \r\nQ 2147 384 2411 759 \r\nQ 2675 1134 2675 2259 \r\nQ 2675 3391 2411 3762 \r\nQ 2147 4134 1753 4134 \r\nQ 1366 4134 1134 3806 \r\nQ 844 3388 844 2259 \r\nz\r\n\" id=\"ArialMT-30\" transform=\"scale(0.015625)\"/>\r\n       </defs>\r\n       <use xlink:href=\"#ArialMT-32\"/>\r\n       <use x=\"55.615234\" xlink:href=\"#ArialMT-36\"/>\r\n       <use x=\"111.230469\" xlink:href=\"#ArialMT-30\"/>\r\n      </g>\r\n     </g>\r\n    </g>\r\n    <g id=\"xtick_2\">\r\n     <g id=\"line2d_2\">\r\n      <g>\r\n       <use style=\"fill:#262626;stroke:#262626;stroke-width:1.25;\" x=\"135.048339\" xlink:href=\"#m926b814aa9\" y=\"228.576797\"/>\r\n      </g>\r\n     </g>\r\n     <g id=\"text_2\">\r\n      <!-- 265 -->\r\n      <g style=\"fill:#262626;\" transform=\"translate(125.872792 245.950391)scale(0.11 -0.11)\">\r\n       <defs>\r\n        <path d=\"M 266 1200 \r\nL 856 1250 \r\nQ 922 819 1161 601 \r\nQ 1400 384 1738 384 \r\nQ 2144 384 2425 690 \r\nQ 2706 997 2706 1503 \r\nQ 2706 1984 2436 2262 \r\nQ 2166 2541 1728 2541 \r\nQ 1456 2541 1237 2417 \r\nQ 1019 2294 894 2097 \r\nL 366 2166 \r\nL 809 4519 \r\nL 3088 4519 \r\nL 3088 3981 \r\nL 1259 3981 \r\nL 1013 2750 \r\nQ 1425 3038 1878 3038 \r\nQ 2478 3038 2890 2622 \r\nQ 3303 2206 3303 1553 \r\nQ 3303 931 2941 478 \r\nQ 2500 -78 1738 -78 \r\nQ 1113 -78 717 272 \r\nQ 322 622 266 1200 \r\nz\r\n\" id=\"ArialMT-35\" transform=\"scale(0.015625)\"/>\r\n       </defs>\r\n       <use xlink:href=\"#ArialMT-32\"/>\r\n       <use x=\"55.615234\" xlink:href=\"#ArialMT-36\"/>\r\n       <use x=\"111.230469\" xlink:href=\"#ArialMT-35\"/>\r\n      </g>\r\n     </g>\r\n    </g>\r\n    <g id=\"xtick_3\">\r\n     <g id=\"line2d_3\">\r\n      <g>\r\n       <use style=\"fill:#262626;stroke:#262626;stroke-width:1.25;\" x=\"177.986635\" xlink:href=\"#m926b814aa9\" y=\"228.576797\"/>\r\n      </g>\r\n     </g>\r\n     <g id=\"text_3\">\r\n      <!-- 270 -->\r\n      <g style=\"fill:#262626;\" transform=\"translate(168.811088 245.950391)scale(0.11 -0.11)\">\r\n       <defs>\r\n        <path d=\"M 303 3981 \r\nL 303 4522 \r\nL 3269 4522 \r\nL 3269 4084 \r\nQ 2831 3619 2401 2847 \r\nQ 1972 2075 1738 1259 \r\nQ 1569 684 1522 0 \r\nL 944 0 \r\nQ 953 541 1156 1306 \r\nQ 1359 2072 1739 2783 \r\nQ 2119 3494 2547 3981 \r\nL 303 3981 \r\nz\r\n\" id=\"ArialMT-37\" transform=\"scale(0.015625)\"/>\r\n       </defs>\r\n       <use xlink:href=\"#ArialMT-32\"/>\r\n       <use x=\"55.615234\" xlink:href=\"#ArialMT-37\"/>\r\n       <use x=\"111.230469\" xlink:href=\"#ArialMT-30\"/>\r\n      </g>\r\n     </g>\r\n    </g>\r\n    <g id=\"text_4\">\r\n     <!-- DOXY -->\r\n     <g style=\"fill:#262626;\" transform=\"translate(109.112003 260.726016)scale(0.12 -0.12)\">\r\n      <defs>\r\n       <path d=\"M 494 0 \r\nL 494 4581 \r\nL 2072 4581 \r\nQ 2606 4581 2888 4516 \r\nQ 3281 4425 3559 4188 \r\nQ 3922 3881 4101 3404 \r\nQ 4281 2928 4281 2316 \r\nQ 4281 1794 4159 1391 \r\nQ 4038 988 3847 723 \r\nQ 3656 459 3429 307 \r\nQ 3203 156 2883 78 \r\nQ 2563 0 2147 0 \r\nL 494 0 \r\nz\r\nM 1100 541 \r\nL 2078 541 \r\nQ 2531 541 2789 625 \r\nQ 3047 709 3200 863 \r\nQ 3416 1078 3536 1442 \r\nQ 3656 1806 3656 2325 \r\nQ 3656 3044 3420 3430 \r\nQ 3184 3816 2847 3947 \r\nQ 2603 4041 2063 4041 \r\nL 1100 4041 \r\nL 1100 541 \r\nz\r\n\" id=\"ArialMT-44\" transform=\"scale(0.015625)\"/>\r\n       <path d=\"M 309 2231 \r\nQ 309 3372 921 4017 \r\nQ 1534 4663 2503 4663 \r\nQ 3138 4663 3647 4359 \r\nQ 4156 4056 4423 3514 \r\nQ 4691 2972 4691 2284 \r\nQ 4691 1588 4409 1038 \r\nQ 4128 488 3612 205 \r\nQ 3097 -78 2500 -78 \r\nQ 1853 -78 1343 234 \r\nQ 834 547 571 1087 \r\nQ 309 1628 309 2231 \r\nz\r\nM 934 2222 \r\nQ 934 1394 1379 917 \r\nQ 1825 441 2497 441 \r\nQ 3181 441 3623 922 \r\nQ 4066 1403 4066 2288 \r\nQ 4066 2847 3877 3264 \r\nQ 3688 3681 3323 3911 \r\nQ 2959 4141 2506 4141 \r\nQ 1863 4141 1398 3698 \r\nQ 934 3256 934 2222 \r\nz\r\n\" id=\"ArialMT-4f\" transform=\"scale(0.015625)\"/>\r\n       <path d=\"M 28 0 \r\nL 1800 2388 \r\nL 238 4581 \r\nL 959 4581 \r\nL 1791 3406 \r\nQ 2050 3041 2159 2844 \r\nQ 2313 3094 2522 3366 \r\nL 3444 4581 \r\nL 4103 4581 \r\nL 2494 2422 \r\nL 4228 0 \r\nL 3478 0 \r\nL 2325 1634 \r\nQ 2228 1775 2125 1941 \r\nQ 1972 1691 1906 1597 \r\nL 756 0 \r\nL 28 0 \r\nz\r\n\" id=\"ArialMT-58\" transform=\"scale(0.015625)\"/>\r\n       <path d=\"M 1784 0 \r\nL 1784 1941 \r\nL 19 4581 \r\nL 756 4581 \r\nL 1659 3200 \r\nQ 1909 2813 2125 2425 \r\nQ 2331 2784 2625 3234 \r\nL 3513 4581 \r\nL 4219 4581 \r\nL 2391 1941 \r\nL 2391 0 \r\nL 1784 0 \r\nz\r\n\" id=\"ArialMT-59\" transform=\"scale(0.015625)\"/>\r\n      </defs>\r\n      <use xlink:href=\"#ArialMT-44\"/>\r\n      <use x=\"72.216797\" xlink:href=\"#ArialMT-4f\"/>\r\n      <use x=\"150\" xlink:href=\"#ArialMT-58\"/>\r\n      <use x=\"216.699219\" xlink:href=\"#ArialMT-59\"/>\r\n     </g>\r\n    </g>\r\n   </g>\r\n   <g id=\"matplotlib.axis_2\">\r\n    <g id=\"ytick_1\">\r\n     <g id=\"line2d_4\">\r\n      <defs>\r\n       <path d=\"M 0 0 \r\nL -6 0 \r\n\" id=\"m3a158243a1\" style=\"stroke:#262626;stroke-width:1.25;\"/>\r\n      </defs>\r\n      <g>\r\n       <use style=\"fill:#262626;stroke:#262626;stroke-width:1.25;\" x=\"50.025469\" xlink:href=\"#m3a158243a1\" y=\"11.136797\"/>\r\n      </g>\r\n     </g>\r\n     <g id=\"text_5\">\r\n      <!-- 0 -->\r\n      <g style=\"fill:#262626;\" transform=\"translate(34.408438 15.073594)scale(0.11 -0.11)\">\r\n       <use xlink:href=\"#ArialMT-30\"/>\r\n      </g>\r\n     </g>\r\n    </g>\r\n    <g id=\"ytick_2\">\r\n     <g id=\"line2d_5\">\r\n      <g>\r\n       <use style=\"fill:#262626;stroke:#262626;stroke-width:1.25;\" x=\"50.025469\" xlink:href=\"#m3a158243a1\" y=\"54.624797\"/>\r\n      </g>\r\n     </g>\r\n     <g id=\"text_6\">\r\n      <!-- 50 -->\r\n      <g style=\"fill:#262626;\" transform=\"translate(28.291406 58.561594)scale(0.11 -0.11)\">\r\n       <use xlink:href=\"#ArialMT-35\"/>\r\n       <use x=\"55.615234\" xlink:href=\"#ArialMT-30\"/>\r\n      </g>\r\n     </g>\r\n    </g>\r\n    <g id=\"ytick_3\">\r\n     <g id=\"line2d_6\">\r\n      <g>\r\n       <use style=\"fill:#262626;stroke:#262626;stroke-width:1.25;\" x=\"50.025469\" xlink:href=\"#m3a158243a1\" y=\"98.112797\"/>\r\n      </g>\r\n     </g>\r\n     <g id=\"text_7\">\r\n      <!-- 100 -->\r\n      <g style=\"fill:#262626;\" transform=\"translate(22.174375 102.049594)scale(0.11 -0.11)\">\r\n       <defs>\r\n        <path d=\"M 2384 0 \r\nL 1822 0 \r\nL 1822 3584 \r\nQ 1619 3391 1289 3197 \r\nQ 959 3003 697 2906 \r\nL 697 3450 \r\nQ 1169 3672 1522 3987 \r\nQ 1875 4303 2022 4600 \r\nL 2384 4600 \r\nL 2384 0 \r\nz\r\n\" id=\"ArialMT-31\" transform=\"scale(0.015625)\"/>\r\n       </defs>\r\n       <use xlink:href=\"#ArialMT-31\"/>\r\n       <use x=\"55.615234\" xlink:href=\"#ArialMT-30\"/>\r\n       <use x=\"111.230469\" xlink:href=\"#ArialMT-30\"/>\r\n      </g>\r\n     </g>\r\n    </g>\r\n    <g id=\"ytick_4\">\r\n     <g id=\"line2d_7\">\r\n      <g>\r\n       <use style=\"fill:#262626;stroke:#262626;stroke-width:1.25;\" x=\"50.025469\" xlink:href=\"#m3a158243a1\" y=\"141.600797\"/>\r\n      </g>\r\n     </g>\r\n     <g id=\"text_8\">\r\n      <!-- 150 -->\r\n      <g style=\"fill:#262626;\" transform=\"translate(22.174375 145.537594)scale(0.11 -0.11)\">\r\n       <use xlink:href=\"#ArialMT-31\"/>\r\n       <use x=\"55.615234\" xlink:href=\"#ArialMT-35\"/>\r\n       <use x=\"111.230469\" xlink:href=\"#ArialMT-30\"/>\r\n      </g>\r\n     </g>\r\n    </g>\r\n    <g id=\"ytick_5\">\r\n     <g id=\"line2d_8\">\r\n      <g>\r\n       <use style=\"fill:#262626;stroke:#262626;stroke-width:1.25;\" x=\"50.025469\" xlink:href=\"#m3a158243a1\" y=\"185.088797\"/>\r\n      </g>\r\n     </g>\r\n     <g id=\"text_9\">\r\n      <!-- 200 -->\r\n      <g style=\"fill:#262626;\" transform=\"translate(22.174375 189.025594)scale(0.11 -0.11)\">\r\n       <use xlink:href=\"#ArialMT-32\"/>\r\n       <use x=\"55.615234\" xlink:href=\"#ArialMT-30\"/>\r\n       <use x=\"111.230469\" xlink:href=\"#ArialMT-30\"/>\r\n      </g>\r\n     </g>\r\n    </g>\r\n    <g id=\"ytick_6\">\r\n     <g id=\"line2d_9\">\r\n      <g>\r\n       <use style=\"fill:#262626;stroke:#262626;stroke-width:1.25;\" x=\"50.025469\" xlink:href=\"#m3a158243a1\" y=\"228.576797\"/>\r\n      </g>\r\n     </g>\r\n     <g id=\"text_10\">\r\n      <!-- 250 -->\r\n      <g style=\"fill:#262626;\" transform=\"translate(22.174375 232.513594)scale(0.11 -0.11)\">\r\n       <use xlink:href=\"#ArialMT-32\"/>\r\n       <use x=\"55.615234\" xlink:href=\"#ArialMT-35\"/>\r\n       <use x=\"111.230469\" xlink:href=\"#ArialMT-30\"/>\r\n      </g>\r\n     </g>\r\n    </g>\r\n    <g id=\"text_11\">\r\n     <!-- PRES -->\r\n     <g style=\"fill:#262626;\" transform=\"translate(15.789375 136.196484)rotate(-90)scale(0.12 -0.12)\">\r\n      <defs>\r\n       <path d=\"M 494 0 \r\nL 494 4581 \r\nL 2222 4581 \r\nQ 2678 4581 2919 4538 \r\nQ 3256 4481 3484 4323 \r\nQ 3713 4166 3852 3881 \r\nQ 3991 3597 3991 3256 \r\nQ 3991 2672 3619 2267 \r\nQ 3247 1863 2275 1863 \r\nL 1100 1863 \r\nL 1100 0 \r\nL 494 0 \r\nz\r\nM 1100 2403 \r\nL 2284 2403 \r\nQ 2872 2403 3119 2622 \r\nQ 3366 2841 3366 3238 \r\nQ 3366 3525 3220 3729 \r\nQ 3075 3934 2838 4000 \r\nQ 2684 4041 2272 4041 \r\nL 1100 4041 \r\nL 1100 2403 \r\nz\r\n\" id=\"ArialMT-50\" transform=\"scale(0.015625)\"/>\r\n       <path d=\"M 503 0 \r\nL 503 4581 \r\nL 2534 4581 \r\nQ 3147 4581 3465 4457 \r\nQ 3784 4334 3975 4021 \r\nQ 4166 3709 4166 3331 \r\nQ 4166 2844 3850 2509 \r\nQ 3534 2175 2875 2084 \r\nQ 3116 1969 3241 1856 \r\nQ 3506 1613 3744 1247 \r\nL 4541 0 \r\nL 3778 0 \r\nL 3172 953 \r\nQ 2906 1366 2734 1584 \r\nQ 2563 1803 2427 1890 \r\nQ 2291 1978 2150 2013 \r\nQ 2047 2034 1813 2034 \r\nL 1109 2034 \r\nL 1109 0 \r\nL 503 0 \r\nz\r\nM 1109 2559 \r\nL 2413 2559 \r\nQ 2828 2559 3062 2645 \r\nQ 3297 2731 3419 2920 \r\nQ 3541 3109 3541 3331 \r\nQ 3541 3656 3305 3865 \r\nQ 3069 4075 2559 4075 \r\nL 1109 4075 \r\nL 1109 2559 \r\nz\r\n\" id=\"ArialMT-52\" transform=\"scale(0.015625)\"/>\r\n       <path d=\"M 506 0 \r\nL 506 4581 \r\nL 3819 4581 \r\nL 3819 4041 \r\nL 1113 4041 \r\nL 1113 2638 \r\nL 3647 2638 \r\nL 3647 2100 \r\nL 1113 2100 \r\nL 1113 541 \r\nL 3925 541 \r\nL 3925 0 \r\nL 506 0 \r\nz\r\n\" id=\"ArialMT-45\" transform=\"scale(0.015625)\"/>\r\n       <path d=\"M 288 1472 \r\nL 859 1522 \r\nQ 900 1178 1048 958 \r\nQ 1197 738 1509 602 \r\nQ 1822 466 2213 466 \r\nQ 2559 466 2825 569 \r\nQ 3091 672 3220 851 \r\nQ 3350 1031 3350 1244 \r\nQ 3350 1459 3225 1620 \r\nQ 3100 1781 2813 1891 \r\nQ 2628 1963 1997 2114 \r\nQ 1366 2266 1113 2400 \r\nQ 784 2572 623 2826 \r\nQ 463 3081 463 3397 \r\nQ 463 3744 659 4045 \r\nQ 856 4347 1234 4503 \r\nQ 1613 4659 2075 4659 \r\nQ 2584 4659 2973 4495 \r\nQ 3363 4331 3572 4012 \r\nQ 3781 3694 3797 3291 \r\nL 3216 3247 \r\nQ 3169 3681 2898 3903 \r\nQ 2628 4125 2100 4125 \r\nQ 1550 4125 1298 3923 \r\nQ 1047 3722 1047 3438 \r\nQ 1047 3191 1225 3031 \r\nQ 1400 2872 2139 2705 \r\nQ 2878 2538 3153 2413 \r\nQ 3553 2228 3743 1945 \r\nQ 3934 1663 3934 1294 \r\nQ 3934 928 3725 604 \r\nQ 3516 281 3123 101 \r\nQ 2731 -78 2241 -78 \r\nQ 1619 -78 1198 103 \r\nQ 778 284 539 648 \r\nQ 300 1013 288 1472 \r\nz\r\n\" id=\"ArialMT-53\" transform=\"scale(0.015625)\"/>\r\n      </defs>\r\n      <use xlink:href=\"#ArialMT-50\"/>\r\n      <use x=\"66.699219\" xlink:href=\"#ArialMT-52\"/>\r\n      <use x=\"138.916016\" xlink:href=\"#ArialMT-45\"/>\r\n      <use x=\"205.615234\" xlink:href=\"#ArialMT-53\"/>\r\n     </g>\r\n    </g>\r\n   </g>\r\n   <g id=\"line2d_10\">\r\n    <path clip-path=\"url(#p2608996a6a)\" d=\"M 137.333328 13.311197 \r\nL 137.001638 15.485597 \r\nL 137.161726 17.659997 \r\nL 134.672995 19.834397 \r\nL 133.259383 22.008797 \r\nL 136.070121 24.183197 \r\nL 135.657682 26.357597 \r\nL 135.701231 28.531997 \r\nL 134.927277 30.706397 \r\nL 134.613094 32.880797 \r\nL 134.583559 37.229597 \r\nL 134.185919 39.403997 \r\nL 133.461272 41.578397 \r\nL 132.978349 43.752797 \r\nL 131.425086 45.927197 \r\nL 129.704192 48.101597 \r\nL 132.051224 50.275997 \r\nL 130.561752 52.450397 \r\nL 130.119861 54.624797 \r\nL 128.811773 56.799197 \r\nL 126.839102 58.973597 \r\nL 124.201475 61.147997 \r\nL 119.973005 63.322397 \r\nL 112.998119 65.496797 \r\nL 103.377789 67.671197 \r\nL 89.079128 69.845597 \r\nL 99.413988 72.019997 \r\nL 127.389079 74.194397 \r\nL 139.630857 76.368797 \r\nL 140.94311 78.543197 \r\nL 144.661189 80.717597 \r\nL 149.355068 82.891997 \r\nL 153.553363 85.066397 \r\nL 157.143467 87.240797 \r\nL 160.229681 89.415197 \r\nL 159.136813 91.589597 \r\nL 160.203452 93.763997 \r\nL 162.140831 95.938397 \r\nL 172.799256 152.472797 \r\nL 181.219045 198.135197 \r\nL 186.473797 226.402397 \r\nL 188.670852 269.890397 \r\nL 188.892926 271.464766 \r\nL 188.892926 271.464766 \r\n\" style=\"fill:none;stroke:#0173b2;stroke-linecap:round;stroke-width:1.5;\"/>\r\n   </g>\r\n   <g id=\"line2d_11\">\r\n    <path clip-path=\"url(#p2608996a6a)\" d=\"M 137.259044 15.485597 \r\nL 138.168777 17.659997 \r\nL 137.998936 19.834397 \r\nL 133.192391 22.008797 \r\nL 134.059565 24.183197 \r\nL 136.136027 26.357597 \r\nL 136.406374 28.531997 \r\nL 136.44084 30.706397 \r\nL 135.168034 32.880797 \r\nL 134.61367 35.055197 \r\nL 134.979606 37.229597 \r\nL 135.557151 39.403997 \r\nL 135.062465 41.578397 \r\nL 135.268217 45.927197 \r\nL 130.560572 48.101597 \r\nL 130.202269 50.275997 \r\nL 132.716764 52.450397 \r\nL 131.903916 54.624797 \r\nL 132.328418 56.799197 \r\nL 131.062041 61.147997 \r\nL 130.164674 63.322397 \r\nL 126.212416 65.496797 \r\nL 119.296393 67.671197 \r\nL 89.971547 69.845597 \r\nL 56.942824 72.019997 \r\nL 73.273429 74.194397 \r\nL 119.096369 76.368797 \r\nL 134.258151 78.543197 \r\nL 132.345442 80.717597 \r\nL 135.530604 82.891997 \r\nL 141.048781 85.066397 \r\nL 146.224274 87.240797 \r\nL 155.751674 89.415197 \r\nL 159.935147 91.589597 \r\nL 156.093104 93.763997 \r\nL 158.34986 95.938397 \r\nL 161.354513 98.112797 \r\nL 162.981728 106.810397 \r\nL 169.288349 139.426397 \r\nL 170.065705 143.775197 \r\nL 181.649833 206.832797 \r\nL 185.042963 224.227997 \r\nL 185.778872 226.402397 \r\nL 186.254708 228.576797 \r\nL 188.118768 267.715997 \r\nL 188.008215 269.890397 \r\nL 188.041306 271.464766 \r\nL 188.041306 271.464766 \r\n\" style=\"fill:none;stroke:#de8f05;stroke-linecap:round;stroke-width:1.5;\"/>\r\n   </g>\r\n   <g id=\"line2d_12\"/>\r\n   <g id=\"line2d_13\"/>\r\n   <g id=\"patch_3\">\r\n    <path d=\"M 50.025469 228.576797 \r\nL 50.025469 11.136797 \r\n\" style=\"fill:none;stroke:#262626;stroke-linecap:square;stroke-linejoin:miter;stroke-width:1.25;\"/>\r\n   </g>\r\n   <g id=\"patch_4\">\r\n    <path d=\"M 202.207287 228.576797 \r\nL 202.207287 11.136797 \r\n\" style=\"fill:none;stroke:#262626;stroke-linecap:square;stroke-linejoin:miter;stroke-width:1.25;\"/>\r\n   </g>\r\n   <g id=\"patch_5\">\r\n    <path d=\"M 50.025469 228.576797 \r\nL 202.207287 228.576797 \r\n\" style=\"fill:none;stroke:#262626;stroke-linecap:square;stroke-linejoin:miter;stroke-width:1.25;\"/>\r\n   </g>\r\n   <g id=\"patch_6\">\r\n    <path d=\"M 50.025469 11.136797 \r\nL 202.207287 11.136797 \r\n\" style=\"fill:none;stroke:#262626;stroke-linecap:square;stroke-linejoin:miter;stroke-width:1.25;\"/>\r\n   </g>\r\n   <g id=\"legend_1\">\r\n    <g id=\"patch_7\">\r\n     <path d=\"M 57.725469 223.076797 \r\nL 188.28 223.076797 \r\nQ 190.48 223.076797 190.48 220.876797 \r\nL 190.48 190.716172 \r\nQ 190.48 188.516172 188.28 188.516172 \r\nL 57.725469 188.516172 \r\nQ 55.525469 188.516172 55.525469 190.716172 \r\nL 55.525469 220.876797 \r\nQ 55.525469 223.076797 57.725469 223.076797 \r\nz\r\n\" style=\"fill:#ffffff;opacity:0.8;stroke:#cccccc;stroke-linejoin:miter;\"/>\r\n    </g>\r\n    <g id=\"line2d_14\">\r\n     <path d=\"M 59.925469 196.939766 \r\nL 81.925469 196.939766 \r\n\" style=\"fill:none;stroke:#0173b2;stroke-linecap:round;stroke-width:1.5;\"/>\r\n    </g>\r\n    <g id=\"line2d_15\"/>\r\n    <g id=\"text_12\">\r\n     <!-- DOXY -->\r\n     <g style=\"fill:#262626;\" transform=\"translate(90.725469 200.789766)scale(0.11 -0.11)\">\r\n      <use xlink:href=\"#ArialMT-44\"/>\r\n      <use x=\"72.216797\" xlink:href=\"#ArialMT-4f\"/>\r\n      <use x=\"150\" xlink:href=\"#ArialMT-58\"/>\r\n      <use x=\"216.699219\" xlink:href=\"#ArialMT-59\"/>\r\n     </g>\r\n    </g>\r\n    <g id=\"line2d_16\">\r\n     <path d=\"M 59.925469 212.640547 \r\nL 81.925469 212.640547 \r\n\" style=\"fill:none;stroke:#de8f05;stroke-linecap:round;stroke-width:1.5;\"/>\r\n    </g>\r\n    <g id=\"line2d_17\"/>\r\n    <g id=\"text_13\">\r\n     <!-- DOXY_ADJUSTED -->\r\n     <g style=\"fill:#262626;\" transform=\"translate(90.725469 216.490547)scale(0.11 -0.11)\">\r\n      <defs>\r\n       <path d=\"M -97 -1272 \r\nL -97 -866 \r\nL 3631 -866 \r\nL 3631 -1272 \r\nL -97 -1272 \r\nz\r\n\" id=\"ArialMT-5f\" transform=\"scale(0.015625)\"/>\r\n       <path d=\"M -9 0 \r\nL 1750 4581 \r\nL 2403 4581 \r\nL 4278 0 \r\nL 3588 0 \r\nL 3053 1388 \r\nL 1138 1388 \r\nL 634 0 \r\nL -9 0 \r\nz\r\nM 1313 1881 \r\nL 2866 1881 \r\nL 2388 3150 \r\nQ 2169 3728 2063 4100 \r\nQ 1975 3659 1816 3225 \r\nL 1313 1881 \r\nz\r\n\" id=\"ArialMT-41\" transform=\"scale(0.015625)\"/>\r\n       <path d=\"M 184 1300 \r\nL 731 1375 \r\nQ 753 850 928 656 \r\nQ 1103 463 1413 463 \r\nQ 1641 463 1806 567 \r\nQ 1972 672 2034 851 \r\nQ 2097 1031 2097 1425 \r\nL 2097 4581 \r\nL 2703 4581 \r\nL 2703 1459 \r\nQ 2703 884 2564 568 \r\nQ 2425 253 2123 87 \r\nQ 1822 -78 1416 -78 \r\nQ 813 -78 492 269 \r\nQ 172 616 184 1300 \r\nz\r\n\" id=\"ArialMT-4a\" transform=\"scale(0.015625)\"/>\r\n       <path d=\"M 3500 4581 \r\nL 4106 4581 \r\nL 4106 1934 \r\nQ 4106 1244 3950 837 \r\nQ 3794 431 3386 176 \r\nQ 2978 -78 2316 -78 \r\nQ 1672 -78 1262 144 \r\nQ 853 366 678 786 \r\nQ 503 1206 503 1934 \r\nL 503 4581 \r\nL 1109 4581 \r\nL 1109 1938 \r\nQ 1109 1341 1220 1058 \r\nQ 1331 775 1601 622 \r\nQ 1872 469 2263 469 \r\nQ 2931 469 3215 772 \r\nQ 3500 1075 3500 1938 \r\nL 3500 4581 \r\nz\r\n\" id=\"ArialMT-55\" transform=\"scale(0.015625)\"/>\r\n       <path d=\"M 1659 0 \r\nL 1659 4041 \r\nL 150 4041 \r\nL 150 4581 \r\nL 3781 4581 \r\nL 3781 4041 \r\nL 2266 4041 \r\nL 2266 0 \r\nL 1659 0 \r\nz\r\n\" id=\"ArialMT-54\" transform=\"scale(0.015625)\"/>\r\n      </defs>\r\n      <use xlink:href=\"#ArialMT-44\"/>\r\n      <use x=\"72.216797\" xlink:href=\"#ArialMT-4f\"/>\r\n      <use x=\"150\" xlink:href=\"#ArialMT-58\"/>\r\n      <use x=\"216.699219\" xlink:href=\"#ArialMT-59\"/>\r\n      <use x=\"283.398438\" xlink:href=\"#ArialMT-5f\"/>\r\n      <use x=\"339.013672\" xlink:href=\"#ArialMT-41\"/>\r\n      <use x=\"405.712891\" xlink:href=\"#ArialMT-44\"/>\r\n      <use x=\"477.929688\" xlink:href=\"#ArialMT-4a\"/>\r\n      <use x=\"527.929688\" xlink:href=\"#ArialMT-55\"/>\r\n      <use x=\"600.146484\" xlink:href=\"#ArialMT-53\"/>\r\n      <use x=\"666.845703\" xlink:href=\"#ArialMT-54\"/>\r\n      <use x=\"727.929688\" xlink:href=\"#ArialMT-45\"/>\r\n      <use x=\"794.628906\" xlink:href=\"#ArialMT-44\"/>\r\n     </g>\r\n    </g>\r\n   </g>\r\n  </g>\r\n  <g id=\"axes_2\">\r\n   <g id=\"patch_8\">\r\n    <path d=\"M 232.643651 228.576797 \r\nL 384.825469 228.576797 \r\nL 384.825469 11.136797 \r\nL 232.643651 11.136797 \r\nz\r\n\" style=\"fill:#ffffff;\"/>\r\n   </g>\r\n   <g id=\"matplotlib.axis_3\">\r\n    <g id=\"xtick_4\">\r\n     <g id=\"line2d_18\">\r\n      <g>\r\n       <use style=\"fill:#262626;stroke:#262626;stroke-width:1.25;\" x=\"271.006944\" xlink:href=\"#m926b814aa9\" y=\"228.576797\"/>\r\n      </g>\r\n     </g>\r\n     <g id=\"text_14\">\r\n      <!-- 0.0 -->\r\n      <g style=\"fill:#262626;\" transform=\"translate(263.361944 245.950391)scale(0.11 -0.11)\">\r\n       <defs>\r\n        <path d=\"M 581 0 \r\nL 581 641 \r\nL 1222 641 \r\nL 1222 0 \r\nL 581 0 \r\nz\r\n\" id=\"ArialMT-2e\" transform=\"scale(0.015625)\"/>\r\n       </defs>\r\n       <use xlink:href=\"#ArialMT-30\"/>\r\n       <use x=\"55.615234\" xlink:href=\"#ArialMT-2e\"/>\r\n       <use x=\"83.398438\" xlink:href=\"#ArialMT-30\"/>\r\n      </g>\r\n     </g>\r\n    </g>\r\n    <g id=\"xtick_5\">\r\n     <g id=\"line2d_19\">\r\n      <g>\r\n       <use style=\"fill:#262626;stroke:#262626;stroke-width:1.25;\" x=\"313.417541\" xlink:href=\"#m926b814aa9\" y=\"228.576797\"/>\r\n      </g>\r\n     </g>\r\n     <g id=\"text_15\">\r\n      <!-- 2.5 -->\r\n      <g style=\"fill:#262626;\" transform=\"translate(305.772541 245.950391)scale(0.11 -0.11)\">\r\n       <use xlink:href=\"#ArialMT-32\"/>\r\n       <use x=\"55.615234\" xlink:href=\"#ArialMT-2e\"/>\r\n       <use x=\"83.398438\" xlink:href=\"#ArialMT-35\"/>\r\n      </g>\r\n     </g>\r\n    </g>\r\n    <g id=\"xtick_6\">\r\n     <g id=\"line2d_20\">\r\n      <g>\r\n       <use style=\"fill:#262626;stroke:#262626;stroke-width:1.25;\" x=\"355.828139\" xlink:href=\"#m926b814aa9\" y=\"228.576797\"/>\r\n      </g>\r\n     </g>\r\n     <g id=\"text_16\">\r\n      <!-- 5.0 -->\r\n      <g style=\"fill:#262626;\" transform=\"translate(348.183139 245.950391)scale(0.11 -0.11)\">\r\n       <use xlink:href=\"#ArialMT-35\"/>\r\n       <use x=\"55.615234\" xlink:href=\"#ArialMT-2e\"/>\r\n       <use x=\"83.398438\" xlink:href=\"#ArialMT-30\"/>\r\n      </g>\r\n     </g>\r\n    </g>\r\n    <g id=\"text_17\">\r\n     <!-- DOXY_DELTA -->\r\n     <g style=\"fill:#262626;\" transform=\"translate(269.939872 260.879766)scale(0.12 -0.12)\">\r\n      <defs>\r\n       <path d=\"M 469 0 \r\nL 469 4581 \r\nL 1075 4581 \r\nL 1075 541 \r\nL 3331 541 \r\nL 3331 0 \r\nL 469 0 \r\nz\r\n\" id=\"ArialMT-4c\" transform=\"scale(0.015625)\"/>\r\n      </defs>\r\n      <use xlink:href=\"#ArialMT-44\"/>\r\n      <use x=\"72.216797\" xlink:href=\"#ArialMT-4f\"/>\r\n      <use x=\"150\" xlink:href=\"#ArialMT-58\"/>\r\n      <use x=\"216.699219\" xlink:href=\"#ArialMT-59\"/>\r\n      <use x=\"283.398438\" xlink:href=\"#ArialMT-5f\"/>\r\n      <use x=\"339.013672\" xlink:href=\"#ArialMT-44\"/>\r\n      <use x=\"411.230469\" xlink:href=\"#ArialMT-45\"/>\r\n      <use x=\"477.929688\" xlink:href=\"#ArialMT-4c\"/>\r\n      <use x=\"526.169922\" xlink:href=\"#ArialMT-54\"/>\r\n      <use x=\"579.878906\" xlink:href=\"#ArialMT-41\"/>\r\n     </g>\r\n    </g>\r\n   </g>\r\n   <g id=\"matplotlib.axis_4\">\r\n    <g id=\"ytick_7\">\r\n     <g id=\"line2d_21\">\r\n      <g>\r\n       <use style=\"fill:#262626;stroke:#262626;stroke-width:1.25;\" x=\"232.643651\" xlink:href=\"#m3a158243a1\" y=\"11.136797\"/>\r\n      </g>\r\n     </g>\r\n    </g>\r\n    <g id=\"ytick_8\">\r\n     <g id=\"line2d_22\">\r\n      <g>\r\n       <use style=\"fill:#262626;stroke:#262626;stroke-width:1.25;\" x=\"232.643651\" xlink:href=\"#m3a158243a1\" y=\"54.624797\"/>\r\n      </g>\r\n     </g>\r\n    </g>\r\n    <g id=\"ytick_9\">\r\n     <g id=\"line2d_23\">\r\n      <g>\r\n       <use style=\"fill:#262626;stroke:#262626;stroke-width:1.25;\" x=\"232.643651\" xlink:href=\"#m3a158243a1\" y=\"98.112797\"/>\r\n      </g>\r\n     </g>\r\n    </g>\r\n    <g id=\"ytick_10\">\r\n     <g id=\"line2d_24\">\r\n      <g>\r\n       <use style=\"fill:#262626;stroke:#262626;stroke-width:1.25;\" x=\"232.643651\" xlink:href=\"#m3a158243a1\" y=\"141.600797\"/>\r\n      </g>\r\n     </g>\r\n    </g>\r\n    <g id=\"ytick_11\">\r\n     <g id=\"line2d_25\">\r\n      <g>\r\n       <use style=\"fill:#262626;stroke:#262626;stroke-width:1.25;\" x=\"232.643651\" xlink:href=\"#m3a158243a1\" y=\"185.088797\"/>\r\n      </g>\r\n     </g>\r\n    </g>\r\n    <g id=\"ytick_12\">\r\n     <g id=\"line2d_26\">\r\n      <g>\r\n       <use style=\"fill:#262626;stroke:#262626;stroke-width:1.25;\" x=\"232.643651\" xlink:href=\"#m3a158243a1\" y=\"228.576797\"/>\r\n      </g>\r\n     </g>\r\n    </g>\r\n   </g>\r\n   <g id=\"line2d_27\">\r\n    <path clip-path=\"url(#pcc41c300a5)\" d=\"M 270.498459 15.485597 \r\nL 269.017596 17.659997 \r\nL 264.436812 19.834397 \r\nL 271.139281 22.008797 \r\nL 274.978639 24.183197 \r\nL 270.062011 26.357597 \r\nL 269.61399 28.531997 \r\nL 268.017019 30.706397 \r\nL 269.910702 32.880797 \r\nL 270.892726 35.055197 \r\nL 270.224584 37.229597 \r\nL 268.298182 39.403997 \r\nL 267.843912 41.578397 \r\nL 266.581776 43.752797 \r\nL 263.415144 45.927197 \r\nL 269.315233 48.101597 \r\nL 274.659408 50.275997 \r\nL 266.749888 52.450397 \r\nL 267.482684 54.624797 \r\nL 264.060089 56.799197 \r\nL 261.421548 58.973597 \r\nL 257.454441 61.147997 \r\nL 250.874112 63.322397 \r\nL 244.90315 65.496797 \r\nL 239.561006 67.671197 \r\nL 269.24404 69.845597 \r\nL 354.905356 72.019997 \r\nL 377.908113 74.194397 \r\nL 311.571196 76.368797 \r\nL 284.21255 78.543197 \r\nL 295.335724 80.717597 \r\nL 298.316075 82.891997 \r\nL 295.708754 85.066397 \r\nL 292.576942 87.240797 \r\nL 279.852892 89.415197 \r\nL 269.429898 91.589597 \r\nL 279.126611 93.763997 \r\nL 278.495707 95.938397 \r\nL 273.378566 98.112797 \r\nL 273.437474 102.461597 \r\nL 273.406818 137.251997 \r\nL 273.164907 141.600797 \r\nL 273.279868 143.775197 \r\nL 273.312308 185.088797 \r\nL 273.404339 189.437597 \r\nL 273.403675 222.053597 \r\nL 273.196832 224.227997 \r\nL 271.651524 228.576797 \r\nL 271.781414 267.715997 \r\nL 272.68925 271.464766 \r\nL 272.68925 271.464766 \r\n\" style=\"fill:none;stroke:#0173b2;stroke-linecap:round;stroke-width:1.5;\"/>\r\n   </g>\r\n   <g id=\"patch_9\">\r\n    <path d=\"M 232.643651 228.576797 \r\nL 232.643651 11.136797 \r\n\" style=\"fill:none;stroke:#262626;stroke-linecap:square;stroke-linejoin:miter;stroke-width:1.25;\"/>\r\n   </g>\r\n   <g id=\"patch_10\">\r\n    <path d=\"M 384.825469 228.576797 \r\nL 384.825469 11.136797 \r\n\" style=\"fill:none;stroke:#262626;stroke-linecap:square;stroke-linejoin:miter;stroke-width:1.25;\"/>\r\n   </g>\r\n   <g id=\"patch_11\">\r\n    <path d=\"M 232.643651 228.576797 \r\nL 384.825469 228.576797 \r\n\" style=\"fill:none;stroke:#262626;stroke-linecap:square;stroke-linejoin:miter;stroke-width:1.25;\"/>\r\n   </g>\r\n   <g id=\"patch_12\">\r\n    <path d=\"M 232.643651 11.136797 \r\nL 384.825469 11.136797 \r\n\" style=\"fill:none;stroke:#262626;stroke-linecap:square;stroke-linejoin:miter;stroke-width:1.25;\"/>\r\n   </g>\r\n  </g>\r\n </g>\r\n <defs>\r\n  <clipPath id=\"p2608996a6a\">\r\n   <rect height=\"217.44\" width=\"152.181818\" x=\"50.025469\" y=\"11.136797\"/>\r\n  </clipPath>\r\n  <clipPath id=\"pcc41c300a5\">\r\n   <rect height=\"217.44\" width=\"152.181818\" x=\"232.643651\" y=\"11.136797\"/>\r\n  </clipPath>\r\n </defs>\r\n</svg>\r\n",
      "image/png": "[encoded data removed]"
     },
     "metadata": {}
    }
   ],
   "metadata": {}
  },
  {
   "cell_type": "markdown",
   "source": [
    "Some observations based on the above:\r\n",
    "\r\n",
    "- It is important to recall that this is an *ascending* profile.\r\n",
    "- The first thing your eye was likely drawn to is the large change 70m depth. I would wager that this single point is probably too dramatic, but also could be real as the gradient is strong there and oxygen would be favouring the higher side. This point makes me uncomfortable without reference data, but I can't say for sure that it is wrong. \r\n",
    "- From 250-100m, oxygen is relatively linear. In this section of the profile, we see a slighly lower `DOXY_ADJUSTED` than the original `DOXY`. Since oxygen is *decreasing* as the float *ascends*, the float remembers the higher concentration from the deeper depth, and therefore slightly overestimates the true oxygen concentration. \r\n",
    "- At points where there are \"notches\" in the original profile, those \"notches\" are amplified in the corrected on."
   ],
   "metadata": {}
  },
  {
   "cell_type": "markdown",
   "source": [
    "Thinking more generally about the wider Argo program, there are a few key questions: \r\n",
    "\r\n",
    "- How would you include this adjusted data in the B-file? Would it go in the `DOXY_ADJUSTED` field, which currently is used for gain adjustment ([Johnson et al. (2015)](https://doi.org/10.1175/JTECH-D-15-0101.1)), or would it merit a different field?\r\n",
    "- Assuming there is no reliable way to determine boundary layer thickness (time constant), should Argo correct using a generic one since the adjusted data will be \"more correct\" than the original, even if it is not perfect?\r\n",
    "- Given a lack of reference data, how would you flag the above adjusted profile? Are there any points you don't believe that should be flagged as bad?"
   ],
   "metadata": {}
  }
 ],
 "metadata": {
  "orig_nbformat": 4,
  "language_info": {
   "name": "python",
   "version": "3.9.7",
   "mimetype": "text/x-python",
   "codemirror_mode": {
    "name": "ipython",
    "version": 3
   },
   "pygments_lexer": "ipython3",
   "nbconvert_exporter": "python",
   "file_extension": ".py"
  },
  "kernelspec": {
   "name": "python3",
   "display_name": "Python 3.9.7 64-bit ('py39': conda)"
  },
  "interpreter": {
   "hash": "1b828603ac9f3f748e47ea3e3eb7e1c2255cf20cc5d18e9beb6500728b540f4d"
  }
 },
 "nbformat": 4,
 "nbformat_minor": 2
}